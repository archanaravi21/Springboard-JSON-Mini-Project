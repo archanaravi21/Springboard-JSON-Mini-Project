{
 "cells": [
  {
   "cell_type": "code",
   "execution_count": 107,
   "metadata": {},
   "outputs": [],
   "source": [
    "import pandas as pd\n",
    "import json\n",
    "from pandas.io.json import json_normalize"
   ]
  },
  {
   "cell_type": "code",
   "execution_count": 108,
   "metadata": {},
   "outputs": [],
   "source": [
    "df = json.load(open('world_bank_projects.json'))\n"
   ]
  },
  {
   "cell_type": "code",
   "execution_count": 109,
   "metadata": {
    "scrolled": false
   },
   "outputs": [
    {
     "data": {
      "text/plain": [
       "Republic of Indonesia              19\n",
       "People's Republic of China         19\n",
       "Socialist Republic of Vietnam      17\n",
       "Republic of India                  16\n",
       "Republic of Yemen                  13\n",
       "Nepal                              12\n",
       "People's Republic of Bangladesh    12\n",
       "Kingdom of Morocco                 12\n",
       "Republic of Mozambique             11\n",
       "Africa                             11\n",
       "Name: countryname, dtype: int64"
      ]
     },
     "execution_count": 109,
     "metadata": {},
     "output_type": "execute_result"
    }
   ],
   "source": [
    "data =json_normalize(df)\n",
    "#Finding the top 10 country names with most projects \n",
    "data['countryname'].value_counts().head(10)\n"
   ]
  },
  {
   "cell_type": "code",
   "execution_count": 148,
   "metadata": {},
   "outputs": [
    {
     "data": {
      "text/plain": [
       "11    157\n",
       "10    148\n",
       "2     140\n",
       "8     128\n",
       "4     119\n",
       "6     116\n",
       "7     114\n",
       "5      61\n",
       "9      40\n",
       "1      33\n",
       "dtype: int64"
      ]
     },
     "execution_count": 148,
     "metadata": {},
     "output_type": "execute_result"
    }
   ],
   "source": [
    "#Finding the top 10 major project themes using 'mjtheme_namecode'\n",
    "\n",
    "#Find the maximum code value\n",
    "new_list=[]\n",
    "for x in range(len(data)):\n",
    "    for y in range(len(data.mjtheme_namecode[x])):\n",
    "        new_list.append(int(data.mjtheme_namecode[x][y]['code']))\n",
    "code_max=max(new_list)\n",
    "#Loop over each row and assign the key of code to 1 to a new dic         \n",
    "d = { }\n",
    "for i in range(1, code_max+1):\n",
    "    d[i] = 0\n",
    "for x in range(len(data)):\n",
    "    new_dic = {}\n",
    "    for y in range(len(data.mjtheme_namecode[x])):\n",
    "        new_dic[int(data.mjtheme_namecode[x][y]['code'])] = 1\n",
    "    #Loop over the dic.keys to find the number of 1 occurences against each code\n",
    "    for i in new_dic.keys():\n",
    "        d[i] += 1\n",
    "df = pd.Series(d)\n",
    "df.sort_values(ascending=False).head(10)"
   ]
  },
  {
   "cell_type": "code",
   "execution_count": 176,
   "metadata": {},
   "outputs": [
    {
     "name": "stdout",
     "output_type": "stream",
     "text": [
      "0      [{'code': '8', 'name': 'Human development'}, {...\n",
      "1      [{'code': '1', 'name': 'Economic management'},...\n",
      "2      [{'code': '5', 'name': 'Trade and integration'...\n",
      "3      [{'code': '7', 'name': 'Social dev/gender/incl...\n",
      "4      [{'code': '5', 'name': 'Trade and integration'...\n",
      "5      [{'code': '6', 'name': 'Social protection and ...\n",
      "6      [{'code': '2', 'name': 'Public sector governan...\n",
      "7      [{'code': '11', 'name': 'Environment and natur...\n",
      "8      [{'code': '10', 'name': 'Rural development'}, ...\n",
      "9      [{'code': '2', 'name': 'Public sector governan...\n",
      "10     [{'code': '10', 'name': 'Rural development'}, ...\n",
      "11     [{'code': '10', 'name': 'Rural development'}, ...\n",
      "12                       [{'code': '4', 'name': 'Test'}]\n",
      "13     [{'code': '5', 'name': 'Trade and integration'...\n",
      "14     [{'code': '6', 'name': 'Social protection and ...\n",
      "15     [{'code': '10', 'name': 'Rural development'}, ...\n",
      "16     [{'code': '10', 'name': 'Rural development'}, ...\n",
      "17     [{'code': '8', 'name': 'Human development'}, {...\n",
      "18     [{'code': '8', 'name': 'Human development'}, {...\n",
      "19     [{'code': '2', 'name': 'Public sector governan...\n",
      "20     [{'code': '7', 'name': 'Social dev/gender/incl...\n",
      "21     [{'code': '9', 'name': 'Urban development'}, {...\n",
      "22     [{'code': '7', 'name': 'Social dev/gender/incl...\n",
      "23     [{'code': '8', 'name': 'Human development'}, {...\n",
      "24     [{'code': '10', 'name': 'Rural development'}, ...\n",
      "25     [{'code': '11', 'name': 'Environment and natur...\n",
      "26     [{'code': '4', 'name': 'Financial and private ...\n",
      "27     [{'code': '11', 'name': 'Environment and natur...\n",
      "28     [{'code': '10', 'name': 'Rural development'}, ...\n",
      "29     [{'code': '7', 'name': 'Social dev/gender/incl...\n",
      "                             ...                        \n",
      "470    [{'code': '5', 'name': 'Trade and integration'...\n",
      "471    [{'code': '10', 'name': 'Rural development'}, ...\n",
      "472    [{'code': '11', 'name': 'Environment and natur...\n",
      "473    [{'code': '11', 'name': 'Environment and natur...\n",
      "474    [{'code': '9', 'name': 'Urban development'}, {...\n",
      "475    [{'code': '4', 'name': 'Financial and private ...\n",
      "476    [{'code': '10', 'name': 'Rural development'}, ...\n",
      "477    [{'code': '4', 'name': 'Financial and private ...\n",
      "478    [{'code': '2', 'name': 'Public sector governan...\n",
      "479    [{'code': '7', 'name': 'Social dev/gender/incl...\n",
      "480    [{'code': '2', 'name': 'Public sector governan...\n",
      "481    [{'code': '8', 'name': 'Human development'}, {...\n",
      "482    [{'code': '10', 'name': 'Rural development'}, ...\n",
      "483    [{'code': '11', 'name': 'Environment and natur...\n",
      "484    [{'code': '10', 'name': 'Rural development'}, ...\n",
      "485    [{'code': '8', 'name': 'Human development'}, {...\n",
      "486    [{'code': '2', 'name': 'Public sector governan...\n",
      "487    [{'code': '11', 'name': 'Environment and natur...\n",
      "488    [{'code': '8', 'name': 'Human development'}, {...\n",
      "489    [{'code': '9', 'name': 'Urban development'}, {...\n",
      "490    [{'code': '2', 'name': 'Public sector governan...\n",
      "491    [{'code': '10', 'name': 'Rural development'}, ...\n",
      "492    [{'code': '8', 'name': 'Human development'}, {...\n",
      "493    [{'code': '11', 'name': 'Environment and natur...\n",
      "494    [{'code': '6', 'name': 'Social protection and ...\n",
      "495    [{'code': '4', 'name': 'Financial and private ...\n",
      "496    [{'code': '8', 'name': 'Human development'}, {...\n",
      "497    [{'code': '10', 'name': 'Rural development'}, ...\n",
      "498    [{'code': '10', 'name': 'Rural development'}, ...\n",
      "499    [{'code': '9', 'name': 'Urban development'}, {...\n",
      "Name: mjtheme_namecode, Length: 500, dtype: object\n"
     ]
    }
   ],
   "source": [
    "#Find the missing names in the mjtheme_code and assign the missing values as test for reference\n",
    "for x in range(len(data)):\n",
    "    new_dic = []\n",
    "    for y in range(len(data.mjtheme_namecode[x])):\n",
    "        if (data.mjtheme_namecode[x][y]['name'])== '':\n",
    "            (data.mjtheme_namecode[x][y]['name'])='Test'\n",
    "print (data['mjtheme_namecode'])"
   ]
  },
  {
   "cell_type": "code",
   "execution_count": null,
   "metadata": {},
   "outputs": [],
   "source": []
  },
  {
   "cell_type": "code",
   "execution_count": null,
   "metadata": {},
   "outputs": [],
   "source": [
    "\n"
   ]
  },
  {
   "cell_type": "code",
   "execution_count": null,
   "metadata": {},
   "outputs": [],
   "source": []
  },
  {
   "cell_type": "code",
   "execution_count": null,
   "metadata": {},
   "outputs": [],
   "source": []
  },
  {
   "cell_type": "code",
   "execution_count": null,
   "metadata": {},
   "outputs": [],
   "source": []
  },
  {
   "cell_type": "code",
   "execution_count": null,
   "metadata": {},
   "outputs": [],
   "source": []
  },
  {
   "cell_type": "code",
   "execution_count": null,
   "metadata": {},
   "outputs": [],
   "source": []
  },
  {
   "cell_type": "code",
   "execution_count": null,
   "metadata": {},
   "outputs": [],
   "source": []
  },
  {
   "cell_type": "code",
   "execution_count": null,
   "metadata": {},
   "outputs": [],
   "source": []
  },
  {
   "cell_type": "code",
   "execution_count": null,
   "metadata": {},
   "outputs": [],
   "source": []
  },
  {
   "cell_type": "code",
   "execution_count": null,
   "metadata": {},
   "outputs": [],
   "source": []
  }
 ],
 "metadata": {
  "kernelspec": {
   "display_name": "Python 3",
   "language": "python",
   "name": "python3"
  },
  "language_info": {
   "codemirror_mode": {
    "name": "ipython",
    "version": 3
   },
   "file_extension": ".py",
   "mimetype": "text/x-python",
   "name": "python",
   "nbconvert_exporter": "python",
   "pygments_lexer": "ipython3",
   "version": "3.7.3"
  }
 },
 "nbformat": 4,
 "nbformat_minor": 2
}
